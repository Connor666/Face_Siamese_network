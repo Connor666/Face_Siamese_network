{
 "cells": [
  {
   "cell_type": "code",
   "execution_count": 1,
   "metadata": {},
   "outputs": [],
   "source": [
    "import tensorflow as tf\n",
    "from tensorflow.keras.models import Sequential, Model,load_model\n",
    "from tensorflow.keras.optimizers import Adam,Adadelta,RMSprop\n",
    "from tensorflow.keras import layers\n",
    "from tensorflow.keras import Input\n",
    "from tensorflow.keras import backend as K\n",
    "from tensorflow.keras.preprocessing.image import ImageDataGenerator\n",
    "from tensorflow.keras.applications import VGG16,ResNet50,ResNet152V2\n",
    "from tensorflow.keras.layers import Lambda\n",
    "from tensorflow.keras.callbacks import ReduceLROnPlateau,ModelCheckpoint,TensorBoard\n",
    "from tensorflow.keras import regularizers\n",
    "import numpy as np\n",
    "import cv2 as cv\n",
    "import os\n",
    "import random"
   ]
  },
  {
   "cell_type": "markdown",
   "metadata": {},
   "source": [
    "## 图片格式转换\n",
    "\n",
    "数据本身是pgm格式，这个格式本身不影响训练，也不影响读取数据，但是他最大的问题是，在WIN端目录下无法预览，这就有点难受了，因此我们将图片转换为png格式方便我们直接从目录中预览"
   ]
  },
  {
   "cell_type": "code",
   "execution_count": 2,
   "metadata": {},
   "outputs": [],
   "source": [
    "train_dir= 'data/faces_siamese/Training'\n",
    "test_dir='data/faces_siamese/Testing'\n",
    "\n",
    "orig_train='data/faces/Training'\n",
    "orig_test='data/faces/Testing'\n",
    "\n",
    "\n",
    "def pgmtopng(originalpath,path):\n",
    "    if not os.path.exists(path):\n",
    "        os.mkdir(path)\n",
    "    for i in os.listdir(originalpath):\n",
    "        #建立训练集与测试集文件夹\n",
    "        if not os.path.exists(path+'/'+i):\n",
    "            os.mkdir(path+'/'+i)\n",
    "            \n",
    "        #将每个类里面的图片变为png到指定目录    \n",
    "        for j in os.listdir(originalpath+'/'+i):\n",
    "            imgpath=originalpath+'/'+i+'/'+j\n",
    "            img=cv.imread(imgpath)\n",
    "            imgname=j.split('.')[0]\n",
    "            savepath=path+'/'+i+'/'+imgname+'.png'\n",
    "            cv.imwrite(savepath,img)\n",
    "            \n",
    "pgmtopng(orig_train,train_dir)\n",
    "pgmtopng(orig_test,test_dir)"
   ]
  },
  {
   "cell_type": "markdown",
   "metadata": {},
   "source": [
    "这个时候，文件夹目录下应该有相同的图片了，也可以进行预览"
   ]
  },
  {
   "cell_type": "markdown",
   "metadata": {},
   "source": [
    "## 载入数据"
   ]
  },
  {
   "cell_type": "markdown",
   "metadata": {},
   "source": [
    "载入数据的源代码是基于keras官方Siamese例子，但是个人感觉写的也不好，并没有将所有组合全部遍历，但不影响结果，\n",
    "我们姑且按这个格式进行修改，最终我们可以使用yield来实现从硬盘分批读取图片，以实现未来内存无法储存大量图片所带来的问题。<br /><br />\n",
    "为什么不适用ImageDataGenerator 类方法中的flow_from_directory？<br />\n",
    "keras官方自带功能包含了从硬盘分批读取图片，为什么要我们自己撰写呢.Keras官方自带案例的确可以实现单张从内存里读取，但是这是一个单张的generator无法直接fed到孪生网络模型中，如果将两个生成器拼合成一个，原理上是可行的，但最大问题是官方自带的生成器是随机的，那么随机的拼合最大的问题是产生不均衡的样本，因为非同人脸的图片比例一定是很高的，这对于我们的学习是非常不利的。若将keras的学习器固定为非随机，那么产生的图片又是连续的，数量也十分有限，加之我们数据量本身就不大因此也不适合"
   ]
  },
  {
   "cell_type": "code",
   "execution_count": 3,
   "metadata": {},
   "outputs": [],
   "source": [
    "train_dir= 'data/faces_siamese/Training'\n",
    "test_dir='data/faces_siamese/Testing'\n",
    "\n",
    "def read_image(imageName):\n",
    "    im = cv.imread(imageName)\n",
    "    im=cv.resize(im,(64,64))/255.\n",
    "    data = np.array(im)\n",
    "    return data.astype('float32')\n",
    "\n",
    "def loadData(datadir):\n",
    "    images_path=[]\n",
    "    labels=[]\n",
    "    count=0\n",
    "    for i in os.listdir(datadir):\n",
    "        count+=1\n",
    "        for fn in os.listdir(os.path.join(datadir, str(i))):\n",
    "            if fn.endswith('.png'):\n",
    "                fd = os.path.join(datadir, str(i), fn)\n",
    "                images_path.append(fd)\n",
    "                labels.append(str(i))\n",
    "    return images_path,np.array(labels),count\n",
    "\n",
    "\n",
    "def doubleGenerator(x, digit_indices,num_classes,batch_size):\n",
    "    '''Positive and negative pair creation.\n",
    "    Alternates between positive and negative pairs.\n",
    "    '''\n",
    "    img1list = []\n",
    "    img2list = []\n",
    "    labels = []\n",
    "    count=0\n",
    "    n = min([len(digit_indices[d]) for d in range(num_classes)]) - 1\n",
    "    while True:\n",
    "        for d in range(num_classes):\n",
    "            for i in range(n):\n",
    "                z1, z2 = digit_indices[d][i], digit_indices[d][i + 1]\n",
    "                img1,img2=read_image(x[z1]),read_image(x[z2])\n",
    "                img1list.append(img1)\n",
    "                img2list.append(img2)\n",
    "                inc = random.randrange(1, num_classes)\n",
    "                dn = (d + inc) % num_classes\n",
    "                z1, z2 = digit_indices[d][i], digit_indices[dn][i]\n",
    "                img1,img2=read_image(x[z1]),read_image(x[z2])\n",
    "                img1list.append(img1)\n",
    "                img2list.append(img2)\n",
    "                labels += [1., 0.]#每次保持一个正例和一个反例\n",
    "                count+=1\n",
    "                if count==batch_size:#满足指定batch size后yield\n",
    "                    count=0\n",
    "                    yield [np.array(img1list),np.array(img2list)], np.array(labels)\n",
    "                    img1list = []\n",
    "                    img2list = []\n",
    "                    labels = []\n",
    "\n",
    "#读取每张图片的路径，label和类别总数\n",
    "x_train,y_train,train_classes=loadData(train_dir)\n",
    "x_test,y_test,test_classes=loadData(test_dir)\n",
    "\n",
    "#获取每张图片label对应的index\n",
    "digit_indices_train = [np.where(y_train == i)[0] for i in os.listdir(train_dir)]\n",
    "digit_indices_test = [np.where(y_test == i)[0] for i in os.listdir(test_dir)]"
   ]
  },
  {
   "cell_type": "markdown",
   "metadata": {},
   "source": [
    "## 构建Siamese网络\n",
    "采用预训练模型（Resnet）构建，可以极大的加快收敛，能在较少的数据集上取得优秀的结果"
   ]
  },
  {
   "cell_type": "code",
   "execution_count": 4,
   "metadata": {},
   "outputs": [],
   "source": [
    "def euclidean_distance(vects):\n",
    "    x, y = vects\n",
    "    sum_square = K.sum(K.square(x - y), axis=1, keepdims=True)\n",
    "    return K.sqrt(K.maximum(sum_square, K.epsilon()))\n",
    "\n",
    "def eucl_dist_output_shape(shapes):\n",
    "    shape1, shape2 = shapes\n",
    "    return (shape1[0], 1)\n",
    "\n",
    "def contrastive_loss(y_true, y_pred):\n",
    "    '''Contrastive loss from Hadsell-et-al.'06\n",
    "    http://yann.lecun.com/exdb/publis/pdf/hadsell-chopra-lecun-06.pdf\n",
    "    '''\n",
    "    margin = 1.\n",
    "    sqaure_pred = K.square(y_pred)\n",
    "    margin_square = K.square(K.maximum(margin - y_pred, 0))\n",
    "    return K.mean(y_true * sqaure_pred + (1 - y_true) * margin_square)\n",
    "\n",
    "\n",
    "def base_net(input_tensor_shape):\n",
    "    \n",
    "    '''Base network to be shared (eq. to feature extraction).\n",
    "    '''\n",
    "    input=Input(input_tensor_shape)\n",
    "    conv_base = ResNet50(weights='imagenet',\n",
    "                         include_top=False)\n",
    "    conv_base.trainable=False\n",
    "    net=conv_base(input)\n",
    "    net=layers.Flatten()(net)\n",
    "    #net=layers.Dropout(0.1)(net)\n",
    "    net=layers.Dense(512, activation='relu')(net)\n",
    "    return Model(input, net)\n",
    "\n",
    "\n",
    "def accuracy(y_true, y_pred): # Tensor上的操作\n",
    "    '''Compute classification accuracy with a fixed threshold on distances.\n",
    "    '''\n",
    "    return K.mean(K.equal(y_true, K.cast(y_pred < 0.5, y_true.dtype)))\n",
    "\n",
    "def compute_accuracy(y_true, y_pred): # numpy上的操作\n",
    "    '''Compute classification accuracy with a fixed threshold on distances.\n",
    "    '''\n",
    "    pred = y_pred.ravel() < 0.5\n",
    "    return np.mean(pred == y_true)"
   ]
  },
  {
   "cell_type": "code",
   "execution_count": 14,
   "metadata": {},
   "outputs": [
    {
     "name": "stdout",
     "output_type": "stream",
     "text": [
      "Model: \"model_3\"\n",
      "__________________________________________________________________________________________________\n",
      "Layer (type)                    Output Shape         Param #     Connected to                     \n",
      "==================================================================================================\n",
      "input_5 (InputLayer)            [(None, 64, 64, 3)]  0                                            \n",
      "__________________________________________________________________________________________________\n",
      "input_6 (InputLayer)            [(None, 64, 64, 3)]  0                                            \n",
      "__________________________________________________________________________________________________\n",
      "model_2 (Functional)            (None, 512)          27782528    input_5[0][0]                    \n",
      "                                                                 input_6[0][0]                    \n",
      "__________________________________________________________________________________________________\n",
      "lambda_1 (Lambda)               (None, 1)            0           model_2[0][0]                    \n",
      "                                                                 model_2[1][0]                    \n",
      "==================================================================================================\n",
      "Total params: 27,782,528\n",
      "Trainable params: 4,194,816\n",
      "Non-trainable params: 23,587,712\n",
      "__________________________________________________________________________________________________\n"
     ]
    }
   ],
   "source": [
    "input_a=Input(shape=(64,64,3))\n",
    "input_b=Input(shape=(64,64,3))\n",
    "\n",
    "base_network=base_net((64,64,3))\n",
    "processed_a=base_network(input_a)\n",
    "processed_b=base_network(input_b)\n",
    "\n",
    "distance = Lambda(euclidean_distance,output_shape=eucl_dist_output_shape)([processed_a, processed_b])\n",
    "model = Model([input_a, input_b], distance)\n",
    "model.summary()"
   ]
  },
  {
   "cell_type": "code",
   "execution_count": 6,
   "metadata": {},
   "outputs": [
    {
     "data": {
      "image/png": "[encoded data removed]",
      "text/plain": [
       "<IPython.core.display.Image object>"
      ]
     },
     "execution_count": 6,
     "metadata": {},
     "output_type": "execute_result"
    }
   ],
   "source": [
    "tf.keras.utils.plot_model(model, to_file='model.png',show_shapes=True)"
   ]
  },
  {
   "cell_type": "code",
   "execution_count": 15,
   "metadata": {
    "scrolled": true
   },
   "outputs": [
    {
     "name": "stdout",
     "output_type": "stream",
     "text": [
      "Epoch 1/40\n",
      "20/20 [==============================] - 9s 128ms/step - loss: 0.1673 - accuracy: 0.7620 - val_loss: 0.0809 - val_accuracy: 0.9688\n",
      "Epoch 2/40\n",
      "20/20 [==============================] - 1s 45ms/step - loss: 0.1653 - accuracy: 0.8037 - val_loss: 0.0756 - val_accuracy: 1.0000\n",
      "Epoch 3/40\n",
      "20/20 [==============================] - 1s 43ms/step - loss: 0.1130 - accuracy: 0.9006 - val_loss: 0.0795 - val_accuracy: 0.9844\n",
      "Epoch 4/40\n",
      "20/20 [==============================] - 1s 43ms/step - loss: 0.1142 - accuracy: 0.8942 - val_loss: 0.0730 - val_accuracy: 1.0000\n",
      "Epoch 5/40\n",
      "20/20 [==============================] - 1s 44ms/step - loss: 0.1150 - accuracy: 0.8756 - val_loss: 0.0989 - val_accuracy: 0.9844\n",
      "Epoch 6/40\n",
      "20/20 [==============================] - 1s 43ms/step - loss: 0.0978 - accuracy: 0.9298 - val_loss: 0.0825 - val_accuracy: 0.9844\n",
      "Epoch 7/40\n",
      "20/20 [==============================] - 1s 43ms/step - loss: 0.1025 - accuracy: 0.9028 - val_loss: 0.0962 - val_accuracy: 0.9531\n",
      "Epoch 8/40\n",
      "20/20 [==============================] - 1s 44ms/step - loss: 0.0906 - accuracy: 0.9330 - val_loss: 0.0753 - val_accuracy: 0.9688\n",
      "Epoch 9/40\n",
      "20/20 [==============================] - 1s 44ms/step - loss: 0.0738 - accuracy: 0.9736 - val_loss: 0.0866 - val_accuracy: 0.9531\n",
      "Epoch 10/40\n",
      "20/20 [==============================] - 1s 44ms/step - loss: 0.0733 - accuracy: 0.9552 - val_loss: 0.0767 - val_accuracy: 0.9531\n",
      "Epoch 11/40\n",
      "20/20 [==============================] - 1s 43ms/step - loss: 0.0716 - accuracy: 0.9610 - val_loss: 0.0693 - val_accuracy: 0.9844\n",
      "Epoch 12/40\n",
      "20/20 [==============================] - 1s 43ms/step - loss: 0.0711 - accuracy: 0.9415 - val_loss: 0.0758 - val_accuracy: 0.9375\n",
      "Epoch 13/40\n",
      "20/20 [==============================] - 1s 44ms/step - loss: 0.0860 - accuracy: 0.9335 - val_loss: 0.0596 - val_accuracy: 0.9844\n",
      "Epoch 14/40\n",
      "20/20 [==============================] - 1s 43ms/step - loss: 0.0674 - accuracy: 0.9543 - val_loss: 0.0819 - val_accuracy: 0.9844\n",
      "Epoch 15/40\n",
      "20/20 [==============================] - 1s 43ms/step - loss: 0.0673 - accuracy: 0.9677 - val_loss: 0.0741 - val_accuracy: 0.9688\n",
      "Epoch 16/40\n",
      "20/20 [==============================] - 1s 44ms/step - loss: 0.0540 - accuracy: 0.9927 - val_loss: 0.0654 - val_accuracy: 0.9688\n",
      "Epoch 17/40\n",
      "20/20 [==============================] - 1s 42ms/step - loss: 0.0646 - accuracy: 0.9793 - val_loss: 0.0811 - val_accuracy: 0.9375\n",
      "Epoch 18/40\n",
      "20/20 [==============================] - 1s 42ms/step - loss: 0.0666 - accuracy: 0.9408 - val_loss: 0.0905 - val_accuracy: 0.9531\n",
      "Epoch 19/40\n",
      "20/20 [==============================] - 1s 42ms/step - loss: 0.0643 - accuracy: 0.9860 - val_loss: 0.0723 - val_accuracy: 0.9531\n",
      "Epoch 20/40\n",
      "20/20 [==============================] - 1s 42ms/step - loss: 0.0656 - accuracy: 0.9589 - val_loss: 0.0898 - val_accuracy: 0.9531\n",
      "Epoch 21/40\n",
      "20/20 [==============================] - 1s 43ms/step - loss: 0.0586 - accuracy: 0.9835 - val_loss: 0.0756 - val_accuracy: 0.9531\n",
      "Epoch 22/40\n",
      "20/20 [==============================] - 1s 42ms/step - loss: 0.0618 - accuracy: 0.9591 - val_loss: 0.0705 - val_accuracy: 0.9688\n",
      "Epoch 23/40\n",
      "20/20 [==============================] - 1s 42ms/step - loss: 0.0625 - accuracy: 0.9712 - val_loss: 0.0867 - val_accuracy: 0.9688\n",
      "\n",
      "Epoch 00023: ReduceLROnPlateau reducing learning rate to 0.00010000000474974513.\n",
      "Epoch 24/40\n",
      "20/20 [==============================] - 1s 43ms/step - loss: 0.0489 - accuracy: 0.9751 - val_loss: 0.0706 - val_accuracy: 0.9688\n",
      "Epoch 25/40\n",
      "20/20 [==============================] - 1s 42ms/step - loss: 0.0546 - accuracy: 0.9902 - val_loss: 0.0754 - val_accuracy: 0.9688\n",
      "Epoch 26/40\n",
      "20/20 [==============================] - 1s 43ms/step - loss: 0.0437 - accuracy: 0.9916 - val_loss: 0.0643 - val_accuracy: 0.9844\n",
      "Epoch 27/40\n",
      "20/20 [==============================] - 1s 42ms/step - loss: 0.0461 - accuracy: 0.9941 - val_loss: 0.0764 - val_accuracy: 0.9844\n",
      "Epoch 28/40\n",
      "20/20 [==============================] - 1s 43ms/step - loss: 0.0420 - accuracy: 0.9957 - val_loss: 0.0804 - val_accuracy: 0.9531\n",
      "Epoch 29/40\n",
      "20/20 [==============================] - 1s 42ms/step - loss: 0.0444 - accuracy: 0.9922 - val_loss: 0.0876 - val_accuracy: 0.9531\n",
      "Epoch 30/40\n",
      "20/20 [==============================] - 1s 42ms/step - loss: 0.0415 - accuracy: 0.9994 - val_loss: 0.0778 - val_accuracy: 0.9844\n",
      "Epoch 31/40\n",
      "20/20 [==============================] - 1s 43ms/step - loss: 0.0489 - accuracy: 0.9928 - val_loss: 0.0709 - val_accuracy: 0.9688\n",
      "Epoch 32/40\n",
      "20/20 [==============================] - 1s 43ms/step - loss: 0.0445 - accuracy: 0.9847 - val_loss: 0.0803 - val_accuracy: 0.9688\n",
      "Epoch 33/40\n",
      "20/20 [==============================] - 1s 43ms/step - loss: 0.0457 - accuracy: 0.9857 - val_loss: 0.0844 - val_accuracy: 0.9531\n",
      "\n",
      "Epoch 00033: ReduceLROnPlateau reducing learning rate to 1.0000000474974514e-05.\n",
      "Epoch 34/40\n",
      "20/20 [==============================] - 1s 43ms/step - loss: 0.0387 - accuracy: 0.9959 - val_loss: 0.0718 - val_accuracy: 0.9688\n",
      "Epoch 35/40\n",
      "20/20 [==============================] - 1s 43ms/step - loss: 0.0515 - accuracy: 0.9905 - val_loss: 0.0802 - val_accuracy: 0.9844\n",
      "Epoch 36/40\n",
      "20/20 [==============================] - 1s 42ms/step - loss: 0.0361 - accuracy: 1.0000 - val_loss: 0.0734 - val_accuracy: 0.9688\n",
      "Epoch 37/40\n",
      "20/20 [==============================] - 1s 42ms/step - loss: 0.0360 - accuracy: 0.9940 - val_loss: 0.0778 - val_accuracy: 0.9844\n",
      "Epoch 38/40\n",
      "20/20 [==============================] - 1s 42ms/step - loss: 0.0416 - accuracy: 0.9916 - val_loss: 0.0701 - val_accuracy: 0.9688\n",
      "Epoch 39/40\n",
      "20/20 [==============================] - 1s 43ms/step - loss: 0.0335 - accuracy: 0.9950 - val_loss: 0.0775 - val_accuracy: 0.9531\n",
      "Epoch 40/40\n",
      "20/20 [==============================] - 1s 43ms/step - loss: 0.0381 - accuracy: 1.0000 - val_loss: 0.0745 - val_accuracy: 0.9531\n"
     ]
    }
   ],
   "source": [
    "callbacks_list=[ReduceLROnPlateau(monitor='val_loss',factor=0.1, patience=10,verbose=1),\n",
    "                ModelCheckpoint(filepath='model_save.h5',monitor='val_loss',save_best_only=True)\n",
    "                ]\n",
    "\n",
    "model.compile(optimizer=Adam(lr=0.001),loss=contrastive_loss,metrics=[accuracy])\n",
    "history = model.fit(\n",
    "      doubleGenerator(x_train, digit_indices_train,train_classes,8),\n",
    "    steps_per_epoch=20,\n",
    "    validation_data=doubleGenerator(x_test, digit_indices_test,test_classes,8),\n",
    "    validation_steps=4,\n",
    "    batch_size=64,\n",
    "    callbacks=callbacks_list,\n",
    "      epochs=40)"
   ]
  },
  {
   "cell_type": "markdown",
   "metadata": {},
   "source": [
    "## 验证模型\n",
    "\n",
    "在未知人脸的情况下，也取得了95%的成绩，可以再继续优化模型和匹配逻辑，目前进行到此"
   ]
  },
  {
   "cell_type": "code",
   "execution_count": 16,
   "metadata": {},
   "outputs": [
    {
     "name": "stdout",
     "output_type": "stream",
     "text": [
      "test acc: 0.96875\n"
     ]
    },
    {
     "name": "stderr",
     "output_type": "stream",
     "text": [
      "C:\\Users\\Harvest10\\AppData\\Roaming\\Python\\Python38\\site-packages\\tensorflow\\python\\keras\\engine\\training.py:1877: UserWarning: `Model.evaluate_generator` is deprecated and will be removed in a future version. Please use `Model.evaluate`, which supports generators.\n",
      "  warnings.warn('`Model.evaluate_generator` is deprecated and '\n"
     ]
    }
   ],
   "source": [
    "test_loss, test_acc = model.evaluate_generator(doubleGenerator(x_test, digit_indices_test,test_classes,16), steps=2)\n",
    "print('test acc:', test_acc)"
   ]
  },
  {
   "cell_type": "markdown",
   "metadata": {},
   "source": [
    "根据直方图发现，同人脸和不同人脸的分数拉开了差距，模型有效"
   ]
  },
  {
   "cell_type": "code",
   "execution_count": 17,
   "metadata": {},
   "outputs": [],
   "source": [
    "count=0\n",
    "NIRA=[]\n",
    "NGRA=[]\n",
    "for i in doubleGenerator(x_test, digit_indices_test,test_classes,16):\n",
    "    for j in range(len(i[0][0])):\n",
    "        img1=i[0][0][j].reshape(1,64,64,3)\n",
    "        img2=i[0][1][j].reshape(1,64,64,3)\n",
    "        result=model.predict([img1,img2])\n",
    "        if i[1][j]==1:\n",
    "            NGRA.append(result[0][0])\n",
    "        else:\n",
    "            NIRA.append(result[0][0])\n",
    "    count+=1\n",
    "    if count==2:\n",
    "        break"
   ]
  },
  {
   "cell_type": "code",
   "execution_count": 18,
   "metadata": {},
   "outputs": [
    {
     "data": {
      "image/png": "[encoded data removed]",
      "text/plain": [
       "<Figure size 432x288 with 1 Axes>"
      ]
     },
     "metadata": {
      "needs_background": "light"
     },
     "output_type": "display_data"
    }
   ],
   "source": [
    "import matplotlib.pyplot as plt\n",
    "import numpy\n",
    "\n",
    "\n",
    "bins = numpy.linspace(0,2, 100)\n",
    "plt.hist([NIRA,NGRA], bins,label=['Between_classes','Within_classes'])\n",
    "plt.legend(loc='upper right')\n",
    "plt.show()"
   ]
  }
 ],
 "metadata": {
  "kernelspec": {
   "display_name": "Python 3",
   "language": "python",
   "name": "python3"
  },
  "language_info": {
   "codemirror_mode": {
    "name": "ipython",
    "version": 3
   },
   "file_extension": ".py",
   "mimetype": "text/x-python",
   "name": "python",
   "nbconvert_exporter": "python",
   "pygments_lexer": "ipython3",
   "version": "3.8.5"
  }
 },
 "nbformat": 4,
 "nbformat_minor": 4
}
